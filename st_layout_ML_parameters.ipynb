{
 "cells": [
  {
   "cell_type": "code",
   "execution_count": 1,
   "id": "db7b1e2e",
   "metadata": {},
   "outputs": [],
   "source": [
    "import streamlit as st\n",
    "import time\n",
    "import pandas as pd"
   ]
  },
  {
   "cell_type": "code",
   "execution_count": 2,
   "id": "4e0d54b1",
   "metadata": {},
   "outputs": [
    {
     "name": "stderr",
     "output_type": "stream",
     "text": [
      "2022-10-05 11:15:55.896 \n",
      "  \u001B[33m\u001B[1mWarning:\u001B[0m to view this Streamlit app on a browser, run it with the following\n",
      "  command:\n",
      "\n",
      "    streamlit run /Users/cs/opt/anaconda3/envs/py39office/lib/python3.9/site-packages/ipykernel_launcher.py [ARGUMENTS]\n"
     ]
    },
    {
     "data": {
      "text/plain": "DeltaGenerator(_root_container=0, _provided_cursor=None, _parent=None, _block_type=None, _form_data=None)"
     },
     "execution_count": 2,
     "metadata": {},
     "output_type": "execute_result"
    }
   ],
   "source": [
    "st.title('Streamlit 布局范例')\n",
    "st.header(\"1，sidebar\")\n",
    "st.text(\"see the left side\")"
   ]
  },
  {
   "cell_type": "code",
   "execution_count": 3,
   "id": "ea01a7e6",
   "metadata": {},
   "outputs": [
    {
     "name": "stderr",
     "output_type": "stream",
     "text": [
      "2022-10-05 11:15:55.907 Session state does not function when running a script without `streamlit run`\n"
     ]
    }
   ],
   "source": [
    "with st.sidebar:\n",
    "    st.subheader(\"配置参数\")\n",
    "    optim = st.multiselect(label=\"optimizer:\",\n",
    "                           options=[\"SGD\", \"Adam\", \"AdamW\"])\n",
    "    lr = st.slider(label=\"learning rate:\",\n",
    "                   min_value=1e-5,\n",
    "                   max_value=0.1)\n",
    "    early_stopping = st.checkbox(label=\"early_stopping\",\n",
    "                                 value=True)\n",
    "\n",
    "    batch_size = st.number_input(label=\"batch_size\",\n",
    "                                 min_value=1,\n",
    "                                 max_value=64)"
   ]
  },
  {
   "cell_type": "code",
   "execution_count": 4,
   "id": "e99aab9b",
   "metadata": {},
   "outputs": [
    {
     "data": {
      "text/plain": "DeltaGenerator(_root_container=0, _provided_cursor=None, _parent=None, _block_type=None, _form_data=None)"
     },
     "execution_count": 4,
     "metadata": {},
     "output_type": "execute_result"
    }
   ],
   "source": [
    "st.header(\"2，columns\")\n",
    "col1, col2, col3 = st.columns(3)\n",
    "col1.metric(\"accuracy\", \"0.82\", \"+32%\")\n",
    "col2.metric(\"AUC\", \"0.89\", \"-8%\")\n",
    "col3.metric(\"recall\", \"0.92\", \"+4%\")"
   ]
  },
  {
   "cell_type": "code",
   "execution_count": 5,
   "id": "9a61783f",
   "metadata": {},
   "outputs": [],
   "source": [
    "st.header(\"3，expander\")\n",
    "st.line_chart(data=[1, 1, 2, 3, 5, 8, 13, 21, 33, 54])\n",
    "with st.expander(label=\"see explanation\"):\n",
    "    st.text(\"This is the Fibonacci sequence\")\n",
    "    st.text(\"You can see more about it in below link\")\n",
    "    st.markdown(\n",
    "        \"[](https://baike.baidu.com/item/%E6%96%90%E6%B3%A2%E9%82%A3%E5%A5%91%E6%95%B0%E5%88%97/99145?fr=aladdin)\")\n"
   ]
  },
  {
   "cell_type": "code",
   "execution_count": 6,
   "id": "af267daa",
   "metadata": {},
   "outputs": [],
   "source": [
    "st.header(\"4，empty\")\n",
    "# st.empty可以作为占位符\n",
    "if st.button(\"Start count sheep\"):\n",
    "    msg = st.empty()  # st.empty可以作为占位符\n",
    "    for i in range(1, 11):\n",
    "        msg.write(\"{} sheep...\".format(i))\n",
    "        time.sleep(0.3)\n",
    "else:\n",
    "    pass  # st.stop"
   ]
  },
  {
   "cell_type": "code",
   "execution_count": 7,
   "id": "30e50431",
   "metadata": {},
   "outputs": [
    {
     "data": {
      "text/plain": "DeltaGenerator(_root_container=0, _provided_cursor=None, _parent=None, _block_type=None, _form_data=None)"
     },
     "execution_count": 7,
     "metadata": {},
     "output_type": "execute_result"
    }
   ],
   "source": [
    "st.header(\"5，container\")\n",
    "\n",
    "container = st.container()\n",
    "container.write(\"1:This should in container\")\n",
    "st.write(\"2:This should out container\")\n",
    "container.write(\"3:This should in container too\")\n",
    "container.bar_chart(data=[1, 1, 2, 3, 5, 8, 13, 21, 33, 54])"
   ]
  },
  {
   "cell_type": "code",
   "execution_count": 7,
   "id": "1b3452a7",
   "metadata": {},
   "outputs": [],
   "source": []
  }
 ],
 "metadata": {
  "kernelspec": {
   "display_name": "Python 3 (ipykernel)",
   "language": "python",
   "name": "python3"
  },
  "language_info": {
   "codemirror_mode": {
    "name": "ipython",
    "version": 3
   },
   "file_extension": ".py",
   "mimetype": "text/x-python",
   "name": "python",
   "nbconvert_exporter": "python",
   "pygments_lexer": "ipython3",
   "version": "3.9.13"
  }
 },
 "nbformat": 4,
 "nbformat_minor": 5
}